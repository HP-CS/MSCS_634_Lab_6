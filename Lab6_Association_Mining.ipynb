{
 "cells": [
  {
   "cell_type": "markdown",
   "id": "47dead4d",
   "metadata": {},
   "source": [
    "# Lab 6: Association Rule Mining with Apriori and FP-Growth\n",
    "**Name**: [Your Name]  \n",
    "**Course**: MSCS 634 – Advanced Data Mining  \n",
    "**Lab**: Lab 6 – Association Rule Mining"
   ]
  },
  {
   "cell_type": "markdown",
   "id": "3990771c",
   "metadata": {},
   "source": [
    "## Step 1: Data Preparation"
   ]
  },
  {
   "cell_type": "code",
   "execution_count": null,
   "id": "9242987c",
   "metadata": {},
   "outputs": [],
   "source": [
    "# Import libraries\n",
    "import pandas as pd\n",
    "import seaborn as sns\n",
    "import matplotlib.pyplot as plt\n",
    "from mlxtend.frequent_patterns import apriori, association_rules, fpgrowth\n",
    "\n",
    "# Load dataset (replace with actual path or URL)\n",
    "# Example: Online Retail dataset\n",
    "# df = pd.read_excel('Online Retail.xlsx')\n",
    "df = pd.read_csv('your_dataset.csv')\n",
    "df.head()"
   ]
  },
  {
   "cell_type": "markdown",
   "id": "bc1cc40b",
   "metadata": {},
   "source": [
    "## Step 2: Frequent Itemset Mining Using Apriori"
   ]
  },
  {
   "cell_type": "code",
   "execution_count": null,
   "id": "f7c459c4",
   "metadata": {},
   "outputs": [],
   "source": [
    "# Data preprocessing for transaction format...\n",
    "# Implement transaction encoding (One-hot or basket form)\n",
    "# transactions = ...\n",
    "\n",
    "# Apply Apriori\n",
    "frequent_apriori = apriori(transactions, min_support=0.02, use_colnames=True)\n",
    "frequent_apriori.sort_values(by='support', ascending=False).head()"
   ]
  },
  {
   "cell_type": "markdown",
   "id": "2fc2def5",
   "metadata": {},
   "source": [
    "## Step 3: Frequent Itemset Mining Using FP-Growth"
   ]
  },
  {
   "cell_type": "code",
   "execution_count": null,
   "id": "e3bb2515",
   "metadata": {},
   "outputs": [],
   "source": [
    "# Apply FP-Growth\n",
    "frequent_fpgrowth = fpgrowth(transactions, min_support=0.02, use_colnames=True)\n",
    "frequent_fpgrowth.sort_values(by='support', ascending=False).head()"
   ]
  },
  {
   "cell_type": "markdown",
   "id": "8f3c9fbd",
   "metadata": {},
   "source": [
    "## Step 4: Generating and Analyzing Association Rules"
   ]
  },
  {
   "cell_type": "code",
   "execution_count": null,
   "id": "709c4bd0",
   "metadata": {},
   "outputs": [],
   "source": [
    "# Generate rules (e.g., from FP-Growth result)\n",
    "rules = association_rules(frequent_fpgrowth, metric='confidence', min_threshold=0.5)\n",
    "rules[['antecedents', 'consequents', 'support', 'confidence', 'lift']].head()"
   ]
  },
  {
   "cell_type": "markdown",
   "id": "4cbca628",
   "metadata": {},
   "source": [
    "## Step 5: Comparative Analysis"
   ]
  },
  {
   "cell_type": "code",
   "execution_count": null,
   "id": "921636ae",
   "metadata": {},
   "outputs": [],
   "source": [
    "# Compare sizes and processing times manually or with timeit\n",
    "print('Apriori Results:', len(frequent_apriori))\n",
    "print('FP-Growth Results:', len(frequent_fpgrowth))"
   ]
  }
 ],
 "metadata": {},
 "nbformat": 4,
 "nbformat_minor": 5
}